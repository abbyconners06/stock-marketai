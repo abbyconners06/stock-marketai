{
  "nbformat": 4,
  "nbformat_minor": 0,
  "metadata": {
    "colab": {
      "provenance": [],
      "authorship_tag": "ABX9TyNuMBjOjGtLzWXUdLWrwRCo",
      "include_colab_link": true
    },
    "kernelspec": {
      "name": "python3",
      "display_name": "Python 3"
    },
    "language_info": {
      "name": "python"
    }
  },
  "cells": [
    {
      "cell_type": "markdown",
      "metadata": {
        "id": "view-in-github",
        "colab_type": "text"
      },
      "source": [
        "<a href=\"https://colab.research.google.com/github/abbyconners06/stock-marketai/blob/main/Stocks.ipynb\" target=\"_parent\"><img src=\"https://colab.research.google.com/assets/colab-badge.svg\" alt=\"Open In Colab\"/></a>"
      ]
    },
    {
      "cell_type": "code",
      "execution_count": 312,
      "metadata": {
        "colab": {
          "base_uri": "https://localhost:8080/"
        },
        "id": "INGSEq92m4gg",
        "outputId": "4ba65966-4766-46a6-d17e-f37646e69b34"
      },
      "outputs": [
        {
          "output_type": "stream",
          "name": "stdout",
          "text": [
            "Requirement already satisfied: xgboost in /usr/local/lib/python3.10/dist-packages (1.7.6)\n",
            "Requirement already satisfied: numpy in /usr/local/lib/python3.10/dist-packages (from xgboost) (1.22.4)\n",
            "Requirement already satisfied: scipy in /usr/local/lib/python3.10/dist-packages (from xgboost) (1.10.1)\n"
          ]
        }
      ],
      "source": [
        "import pandas as pd\n",
        "import numpy as np\n",
        "from sklearn.model_selection import StratifiedKFold\n",
        "from sklearn.ensemble import RandomForestClassifier, ExtraTreesClassifier, BaggingClassifier, VotingClassifier\n",
        "from sklearn.metrics import accuracy_score\n",
        "import datetime\n",
        "import yfinance as yf\n",
        "!pip install xgboost\n",
        "from xgboost import XGBClassifier\n"
      ]
    },
    {
      "cell_type": "code",
      "source": [
        "# Data scraping\n",
        "ticker_symbol = \"AAPL\"\n",
        "end_date = datetime.datetime.today().strftime('%Y-%m-%d')\n",
        "start_date = (datetime.datetime.today() - datetime.timedelta(days=650)).strftime('%Y-%m-%d')\n",
        "data = yf.download(ticker_symbol, start=start_date, end=end_date)\n",
        "data.to_csv('AAPL.csv')"
      ],
      "metadata": {
        "colab": {
          "base_uri": "https://localhost:8080/"
        },
        "id": "8NRqk_FfnJ3N",
        "outputId": "d82e958d-f969-4bac-e848-d0ba11a65357"
      },
      "execution_count": 391,
      "outputs": [
        {
          "output_type": "stream",
          "name": "stdout",
          "text": [
            "\r[*********************100%***********************]  1 of 1 completed\n"
          ]
        }
      ]
    },
    {
      "cell_type": "code",
      "source": [
        "# Creating new column that tells whether the stock price went up or down\n",
        "# Calculate the price differences\n",
        "data['Price_Difference'] = data['Close'].diff()\n",
        "\n",
        "# Create a new column indicating the direction of the stock movement: 0 represents up, 1 represents down\n",
        "data['Stock_Movement'] = np.where(data['Price_Difference'] > 0, 1, 0)\n",
        "data.head()"
      ],
      "metadata": {
        "colab": {
          "base_uri": "https://localhost:8080/",
          "height": 238
        },
        "id": "N3MANJYmnFGN",
        "outputId": "3aef3252-e5dd-4aa8-99fb-d0a2bdee623c"
      },
      "execution_count": 392,
      "outputs": [
        {
          "output_type": "execute_result",
          "data": {
            "text/plain": [
              "                  Open        High         Low       Close   Adj Close  \\\n",
              "Date                                                                     \n",
              "2021-09-24  145.660004  147.470001  145.559998  146.919998  145.435806   \n",
              "2021-09-27  145.470001  145.960007  143.820007  145.369995  143.901489   \n",
              "2021-09-28  143.250000  144.750000  141.690002  141.910004  140.476440   \n",
              "2021-09-29  142.470001  144.449997  142.029999  142.830002  141.387131   \n",
              "2021-09-30  143.660004  144.380005  141.279999  141.500000  140.070572   \n",
              "\n",
              "               Volume  Price_Difference  Stock_Movement  \n",
              "Date                                                     \n",
              "2021-09-24   53477900               NaN               0  \n",
              "2021-09-27   74150700         -1.550003               0  \n",
              "2021-09-28  108972300         -3.459991               0  \n",
              "2021-09-29   74602000          0.919998               1  \n",
              "2021-09-30   89056700         -1.330002               0  "
            ],
            "text/html": [
              "\n",
              "  <div id=\"df-81bb2134-206b-4e13-ac5f-c772c66f92cf\">\n",
              "    <div class=\"colab-df-container\">\n",
              "      <div>\n",
              "<style scoped>\n",
              "    .dataframe tbody tr th:only-of-type {\n",
              "        vertical-align: middle;\n",
              "    }\n",
              "\n",
              "    .dataframe tbody tr th {\n",
              "        vertical-align: top;\n",
              "    }\n",
              "\n",
              "    .dataframe thead th {\n",
              "        text-align: right;\n",
              "    }\n",
              "</style>\n",
              "<table border=\"1\" class=\"dataframe\">\n",
              "  <thead>\n",
              "    <tr style=\"text-align: right;\">\n",
              "      <th></th>\n",
              "      <th>Open</th>\n",
              "      <th>High</th>\n",
              "      <th>Low</th>\n",
              "      <th>Close</th>\n",
              "      <th>Adj Close</th>\n",
              "      <th>Volume</th>\n",
              "      <th>Price_Difference</th>\n",
              "      <th>Stock_Movement</th>\n",
              "    </tr>\n",
              "    <tr>\n",
              "      <th>Date</th>\n",
              "      <th></th>\n",
              "      <th></th>\n",
              "      <th></th>\n",
              "      <th></th>\n",
              "      <th></th>\n",
              "      <th></th>\n",
              "      <th></th>\n",
              "      <th></th>\n",
              "    </tr>\n",
              "  </thead>\n",
              "  <tbody>\n",
              "    <tr>\n",
              "      <th>2021-09-24</th>\n",
              "      <td>145.660004</td>\n",
              "      <td>147.470001</td>\n",
              "      <td>145.559998</td>\n",
              "      <td>146.919998</td>\n",
              "      <td>145.435806</td>\n",
              "      <td>53477900</td>\n",
              "      <td>NaN</td>\n",
              "      <td>0</td>\n",
              "    </tr>\n",
              "    <tr>\n",
              "      <th>2021-09-27</th>\n",
              "      <td>145.470001</td>\n",
              "      <td>145.960007</td>\n",
              "      <td>143.820007</td>\n",
              "      <td>145.369995</td>\n",
              "      <td>143.901489</td>\n",
              "      <td>74150700</td>\n",
              "      <td>-1.550003</td>\n",
              "      <td>0</td>\n",
              "    </tr>\n",
              "    <tr>\n",
              "      <th>2021-09-28</th>\n",
              "      <td>143.250000</td>\n",
              "      <td>144.750000</td>\n",
              "      <td>141.690002</td>\n",
              "      <td>141.910004</td>\n",
              "      <td>140.476440</td>\n",
              "      <td>108972300</td>\n",
              "      <td>-3.459991</td>\n",
              "      <td>0</td>\n",
              "    </tr>\n",
              "    <tr>\n",
              "      <th>2021-09-29</th>\n",
              "      <td>142.470001</td>\n",
              "      <td>144.449997</td>\n",
              "      <td>142.029999</td>\n",
              "      <td>142.830002</td>\n",
              "      <td>141.387131</td>\n",
              "      <td>74602000</td>\n",
              "      <td>0.919998</td>\n",
              "      <td>1</td>\n",
              "    </tr>\n",
              "    <tr>\n",
              "      <th>2021-09-30</th>\n",
              "      <td>143.660004</td>\n",
              "      <td>144.380005</td>\n",
              "      <td>141.279999</td>\n",
              "      <td>141.500000</td>\n",
              "      <td>140.070572</td>\n",
              "      <td>89056700</td>\n",
              "      <td>-1.330002</td>\n",
              "      <td>0</td>\n",
              "    </tr>\n",
              "  </tbody>\n",
              "</table>\n",
              "</div>\n",
              "      <button class=\"colab-df-convert\" onclick=\"convertToInteractive('df-81bb2134-206b-4e13-ac5f-c772c66f92cf')\"\n",
              "              title=\"Convert this dataframe to an interactive table.\"\n",
              "              style=\"display:none;\">\n",
              "        \n",
              "  <svg xmlns=\"http://www.w3.org/2000/svg\" height=\"24px\"viewBox=\"0 0 24 24\"\n",
              "       width=\"24px\">\n",
              "    <path d=\"M0 0h24v24H0V0z\" fill=\"none\"/>\n",
              "    <path d=\"M18.56 5.44l.94 2.06.94-2.06 2.06-.94-2.06-.94-.94-2.06-.94 2.06-2.06.94zm-11 1L8.5 8.5l.94-2.06 2.06-.94-2.06-.94L8.5 2.5l-.94 2.06-2.06.94zm10 10l.94 2.06.94-2.06 2.06-.94-2.06-.94-.94-2.06-.94 2.06-2.06.94z\"/><path d=\"M17.41 7.96l-1.37-1.37c-.4-.4-.92-.59-1.43-.59-.52 0-1.04.2-1.43.59L10.3 9.45l-7.72 7.72c-.78.78-.78 2.05 0 2.83L4 21.41c.39.39.9.59 1.41.59.51 0 1.02-.2 1.41-.59l7.78-7.78 2.81-2.81c.8-.78.8-2.07 0-2.86zM5.41 20L4 18.59l7.72-7.72 1.47 1.35L5.41 20z\"/>\n",
              "  </svg>\n",
              "      </button>\n",
              "      \n",
              "  <style>\n",
              "    .colab-df-container {\n",
              "      display:flex;\n",
              "      flex-wrap:wrap;\n",
              "      gap: 12px;\n",
              "    }\n",
              "\n",
              "    .colab-df-convert {\n",
              "      background-color: #E8F0FE;\n",
              "      border: none;\n",
              "      border-radius: 50%;\n",
              "      cursor: pointer;\n",
              "      display: none;\n",
              "      fill: #1967D2;\n",
              "      height: 32px;\n",
              "      padding: 0 0 0 0;\n",
              "      width: 32px;\n",
              "    }\n",
              "\n",
              "    .colab-df-convert:hover {\n",
              "      background-color: #E2EBFA;\n",
              "      box-shadow: 0px 1px 2px rgba(60, 64, 67, 0.3), 0px 1px 3px 1px rgba(60, 64, 67, 0.15);\n",
              "      fill: #174EA6;\n",
              "    }\n",
              "\n",
              "    [theme=dark] .colab-df-convert {\n",
              "      background-color: #3B4455;\n",
              "      fill: #D2E3FC;\n",
              "    }\n",
              "\n",
              "    [theme=dark] .colab-df-convert:hover {\n",
              "      background-color: #434B5C;\n",
              "      box-shadow: 0px 1px 3px 1px rgba(0, 0, 0, 0.15);\n",
              "      filter: drop-shadow(0px 1px 2px rgba(0, 0, 0, 0.3));\n",
              "      fill: #FFFFFF;\n",
              "    }\n",
              "  </style>\n",
              "\n",
              "      <script>\n",
              "        const buttonEl =\n",
              "          document.querySelector('#df-81bb2134-206b-4e13-ac5f-c772c66f92cf button.colab-df-convert');\n",
              "        buttonEl.style.display =\n",
              "          google.colab.kernel.accessAllowed ? 'block' : 'none';\n",
              "\n",
              "        async function convertToInteractive(key) {\n",
              "          const element = document.querySelector('#df-81bb2134-206b-4e13-ac5f-c772c66f92cf');\n",
              "          const dataTable =\n",
              "            await google.colab.kernel.invokeFunction('convertToInteractive',\n",
              "                                                     [key], {});\n",
              "          if (!dataTable) return;\n",
              "\n",
              "          const docLinkHtml = 'Like what you see? Visit the ' +\n",
              "            '<a target=\"_blank\" href=https://colab.research.google.com/notebooks/data_table.ipynb>data table notebook</a>'\n",
              "            + ' to learn more about interactive tables.';\n",
              "          element.innerHTML = '';\n",
              "          dataTable['output_type'] = 'display_data';\n",
              "          await google.colab.output.renderOutput(dataTable, element);\n",
              "          const docLink = document.createElement('div');\n",
              "          docLink.innerHTML = docLinkHtml;\n",
              "          element.appendChild(docLink);\n",
              "        }\n",
              "      </script>\n",
              "    </div>\n",
              "  </div>\n",
              "  "
            ]
          },
          "metadata": {},
          "execution_count": 392
        }
      ]
    },
    {
      "cell_type": "code",
      "source": [
        "X = data[['Open', 'High', 'Low', 'Close', 'Adj Close', 'Volume']]\n",
        "y = data['Stock_Movement']"
      ],
      "metadata": {
        "id": "wqT_D8iAooXX"
      },
      "execution_count": 393,
      "outputs": []
    },
    {
      "cell_type": "code",
      "source": [
        "# Initialize stratified k-fold cross-validation\n",
        "skf = StratifiedKFold(n_splits=8, shuffle=True, random_state=42)"
      ],
      "metadata": {
        "id": "WAufrtn8oodS"
      },
      "execution_count": 431,
      "outputs": []
    },
    {
      "cell_type": "code",
      "source": [
        "# Initialize a list to store the accuracy scores\n",
        "accuracy_scores = []"
      ],
      "metadata": {
        "id": "ITXcYmkborFX"
      },
      "execution_count": 432,
      "outputs": []
    },
    {
      "cell_type": "code",
      "source": [
        "model_rf = RandomForestClassifier()\n",
        "model_xgb = XGBClassifier()\n",
        "model_et = ExtraTreesClassifier()\n",
        "model_bagging = BaggingClassifier()"
      ],
      "metadata": {
        "id": "Aj1o8TO5qLeY"
      },
      "execution_count": 433,
      "outputs": []
    },
    {
      "cell_type": "code",
      "source": [
        "voting_model = VotingClassifier(\n",
        "    estimators=[\n",
        "        ('rf', model_rf),\n",
        "        ('xgb', model_xgb),\n",
        "        ('et', model_et),\n",
        "        ('bagging', model_bagging),\n",
        "    ],\n",
        "    voting='hard'  # Majority voting based on predicted class labels\n",
        ")"
      ],
      "metadata": {
        "id": "OKc_DE13qTw5"
      },
      "execution_count": 434,
      "outputs": []
    },
    {
      "cell_type": "code",
      "source": [
        "# Perform stratified k-fold cross-validation\n",
        "for train_index, test_index in skf.split(X, y):\n",
        "    X_train, X_test = X.iloc[train_index], X.iloc[test_index]\n",
        "    y_train, y_test = y.iloc[train_index], y.iloc[test_index]\n",
        "\n",
        "    # Fit each individual model using the training data\n",
        "    model_rf.fit(X_train, y_train)\n",
        "    model_xgb.fit(X_train, y_train)\n",
        "    model_et.fit(X_train, y_train)\n",
        "    model_bagging.fit(X_train, y_train)\n",
        "\n",
        "    # Train the Voting Classifier model using the fitted individual models\n",
        "    voting_model.fit(X_train, y_train)\n",
        "\n",
        "    # Make predictions on the test data\n",
        "    y_pred = voting_model.predict(X_test)\n",
        "\n",
        "    # Calculate the accuracy of the Voting Classifier model\n",
        "    accuracy = accuracy_score(y_test, y_pred)\n",
        "    accuracy_scores.append(accuracy)\n"
      ],
      "metadata": {
        "id": "IYok5ee4nodG"
      },
      "execution_count": 435,
      "outputs": []
    },
    {
      "cell_type": "code",
      "source": [
        "# Calculate the mean accuracy across all folds for the Voting Classifier\n",
        "mean_accuracy = np.mean(accuracy_scores)\n",
        "print('Voting Classifier Mean Accuracy:', mean_accuracy)"
      ],
      "metadata": {
        "colab": {
          "base_uri": "https://localhost:8080/"
        },
        "id": "mjEa1T5QqWfJ",
        "outputId": "06281992-6f4c-4ca4-c9db-01de75f535b6"
      },
      "execution_count": 436,
      "outputs": [
        {
          "output_type": "stream",
          "name": "stdout",
          "text": [
            "Voting Classifier Mean Accuracy: 0.7622159090909091\n"
          ]
        }
      ]
    }
  ]
}