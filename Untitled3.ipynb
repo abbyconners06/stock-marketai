{
  "nbformat": 4,
  "nbformat_minor": 0,
  "metadata": {
    "colab": {
      "provenance": [],
      "include_colab_link": true
    },
    "kernelspec": {
      "name": "python3",
      "display_name": "Python 3"
    },
    "language_info": {
      "name": "python"
    }
  },
  "cells": [
    {
      "cell_type": "markdown",
      "metadata": {
        "id": "view-in-github",
        "colab_type": "text"
      },
      "source": [
        "<a href=\"https://colab.research.google.com/github/abbyconners06/stock-marketai/blob/main/Untitled3.ipynb\" target=\"_parent\"><img src=\"https://colab.research.google.com/assets/colab-badge.svg\" alt=\"Open In Colab\"/></a>"
      ]
    },
    {
      "cell_type": "code",
      "execution_count": 1,
      "metadata": {
        "id": "Z3_s9wZp6iYg",
        "colab": {
          "base_uri": "https://localhost:8080/",
          "height": 373
        },
        "outputId": "0e654d51-69b2-445a-e74c-d69fe3d2de60"
      },
      "outputs": [
        {
          "output_type": "error",
          "ename": "ModuleNotFoundError",
          "evalue": "ignored",
          "traceback": [
            "\u001b[0;31m---------------------------------------------------------------------------\u001b[0m",
            "\u001b[0;31mModuleNotFoundError\u001b[0m                       Traceback (most recent call last)",
            "\u001b[0;32m<ipython-input-1-23ffd052c036>\u001b[0m in \u001b[0;36m<cell line: 3>\u001b[0;34m()\u001b[0m\n\u001b[1;32m      1\u001b[0m \u001b[0;32mimport\u001b[0m \u001b[0mpandas\u001b[0m \u001b[0;32mas\u001b[0m \u001b[0mpd\u001b[0m\u001b[0;34m\u001b[0m\u001b[0;34m\u001b[0m\u001b[0m\n\u001b[1;32m      2\u001b[0m \u001b[0;32mimport\u001b[0m \u001b[0mnumpy\u001b[0m \u001b[0;32mas\u001b[0m \u001b[0mnp\u001b[0m\u001b[0;34m\u001b[0m\u001b[0;34m\u001b[0m\u001b[0m\n\u001b[0;32m----> 3\u001b[0;31m \u001b[0;32mimport\u001b[0m \u001b[0mmatplot\u001b[0m\u001b[0;34m.\u001b[0m\u001b[0mlib\u001b[0m\u001b[0;34m.\u001b[0m\u001b[0mpyplot\u001b[0m \u001b[0;32mas\u001b[0m \u001b[0mplt\u001b[0m\u001b[0;34m\u001b[0m\u001b[0;34m\u001b[0m\u001b[0m\n\u001b[0m\u001b[1;32m      4\u001b[0m \u001b[0mget_ipython\u001b[0m\u001b[0;34m(\u001b[0m\u001b[0;34m)\u001b[0m\u001b[0;34m.\u001b[0m\u001b[0mrun_line_magic\u001b[0m\u001b[0;34m(\u001b[0m\u001b[0;34m'matplotlib'\u001b[0m\u001b[0;34m,\u001b[0m \u001b[0;34m'inline'\u001b[0m\u001b[0;34m)\u001b[0m\u001b[0;34m\u001b[0m\u001b[0;34m\u001b[0m\u001b[0m\n\u001b[1;32m      5\u001b[0m \u001b[0;32mimport\u001b[0m \u001b[0mchart_studio\u001b[0m\u001b[0;34m.\u001b[0m\u001b[0mplotly\u001b[0m \u001b[0;32mas\u001b[0m \u001b[0mpy\u001b[0m\u001b[0;34m\u001b[0m\u001b[0;34m\u001b[0m\u001b[0m\n",
            "\u001b[0;31mModuleNotFoundError\u001b[0m: No module named 'matplot'",
            "",
            "\u001b[0;31m---------------------------------------------------------------------------\u001b[0;32m\nNOTE: If your import is failing due to a missing package, you can\nmanually install dependencies using either !pip or !apt.\n\nTo view examples of installing some common dependencies, click the\n\"Open Examples\" button below.\n\u001b[0;31m---------------------------------------------------------------------------\u001b[0m\n"
          ],
          "errorDetails": {
            "actions": [
              {
                "action": "open_url",
                "actionText": "Open Examples",
                "url": "/notebooks/snippets/importing_libraries.ipynb"
              }
            ]
          }
        }
      ],
      "source": [
        "import pandas as pd\n",
        "import numpy as np\n",
        "import matplot.lib.pyplot as plt\n",
        "%matplotlib inline\n",
        "import chart_studio.plotly as py\n",
        "import plotly.graph_objs as go\n",
        "from plotly.offline import plot\n",
        "\n",
        "#for offline plotting\n",
        "from plotly.offline import download_plotlyjs, init_notebook_mode, plot, iplot\n",
        "init_notebook_mode(connected=True)"
      ]
    },
    {
      "cell_type": "code",
      "source": [
        "AAPL = pd.read_csv('C:\\Users\\sb40956\\Desktop')"
      ],
      "metadata": {
        "id": "dz-TFRQl7HkN"
      },
      "execution_count": null,
      "outputs": []
    },
    {
      "cell_type": "code",
      "source": [
        "AAPL.info()"
      ],
      "metadata": {
        "id": "S0jlR5dt7aBX"
      },
      "execution_count": null,
      "outputs": []
    },
    {
      "cell_type": "code",
      "source": [
        "AAPL['Date'] = pd.to_datetime(AAPL['Date'])"
      ],
      "metadata": {
        "id": "bcTh9Yg37dKB"
      },
      "execution_count": null,
      "outputs": []
    },
    {
      "cell_type": "code",
      "source": [
        "print(f\"Dataframe contains stock prices between {AAPL.Date.min()} {AAPL.Date.max()}\")\n",
        "print(f\"Total days = {(AAPL.Date.max() - AAPL.Date.min()).days} days\")"
      ],
      "metadata": {
        "id": "2gRXl6F07l0-"
      },
      "execution_count": null,
      "outputs": []
    },
    {
      "cell_type": "code",
      "source": [
        "AAPL.describe()"
      ],
      "metadata": {
        "id": "-wvVAi5G71q3"
      },
      "execution_count": null,
      "outputs": []
    },
    {
      "cell_type": "code",
      "source": [
        "AAPL[['Open', 'High', 'Low', 'Close','Adj Close']].plot(kind='box')"
      ],
      "metadata": {
        "id": "ofg4flQG8KtJ"
      },
      "execution_count": null,
      "outputs": []
    },
    {
      "cell_type": "code",
      "source": [
        "layout = go.Layout(\n",
        "    title='Stock Prices of Apple'\n",
        "    xaxis=dict(\n",
        "        title='Date'\n",
        "        titlefont=dict(\n",
        "            family=\"Courier New, monospace\",\n",
        "            size=18\n",
        "            color=\"\"\n",
        "        )\n",
        "    )\n",
        ")"
      ],
      "metadata": {
        "id": "mTWhwjx28aUB"
      },
      "execution_count": null,
      "outputs": []
    },
    {
      "cell_type": "code",
      "source": [
        "from sklearn.model_selection import train_test_split\n",
        "from sklearn.preprocessing import MinMaxScaler\n",
        "from sklearn.preprocessing import StandardScaler\n",
        "from sklearn.metrics import mean_squared_error as mse\n",
        "from sklearn.metrics import r2_score"
      ],
      "metadata": {
        "id": "jp7D79uE9MGD"
      },
      "execution_count": null,
      "outputs": []
    },
    {
      "cell_type": "code",
      "source": [
        "X = np.array(AAPL.index).reshape(-1,1)\n",
        "Y = AAPL['Close']\n",
        "X_train, X_test, Y_train, Y_test = train_test_split(X,Y,test_size=.3, random_state=101)"
      ],
      "metadata": {
        "id": "naou4CmH9snq"
      },
      "execution_count": null,
      "outputs": []
    },
    {
      "cell_type": "code",
      "source": [
        "scaler = StandardScaler().fit(X_train)"
      ],
      "metadata": {
        "id": "-xzQR4pG-I_D"
      },
      "execution_count": null,
      "outputs": []
    },
    {
      "cell_type": "code",
      "source": [
        "from sklearn.linear_model import LinearRegression"
      ],
      "metadata": {
        "id": "b2xG-R6D-XsT"
      },
      "execution_count": null,
      "outputs": []
    },
    {
      "cell_type": "code",
      "source": [
        "lm = LinearRegression\n",
        "lm.fit(X_train, Y_train)"
      ],
      "metadata": {
        "id": "i0-GbMeh-ceT"
      },
      "execution_count": null,
      "outputs": []
    },
    {
      "cell_type": "code",
      "source": [
        "trace0 = go.Scatter(\n",
        "    x = X_train.T[0],\n",
        "    y = Y_train,\n",
        "    mode = 'markers'\n",
        "    name = 'Actual')\n",
        "\n",
        "trace1 = go.Scatter(\n",
        "    x = X_train.T[0],\n",
        "    y = lm.predict(X_train).T,\n",
        "    mode = 'lines'\n",
        "    name = 'Predicted')\n",
        "\n",
        "tesla_data = [trace0, trace1]\n",
        "layout.xaxis.title.text = 'Day'\n",
        "plot2 = go.Figure(data= AAPL_data, layout=layout)\n"
      ],
      "metadata": {
        "id": "GG386Xta-ko1"
      },
      "execution_count": null,
      "outputs": []
    },
    {
      "cell_type": "code",
      "source": [
        "iplot(plot2)"
      ],
      "metadata": {
        "id": "ythlwKdV_cdu"
      },
      "execution_count": null,
      "outputs": []
    },
    {
      "cell_type": "code",
      "source": [
        "scores = f'''\n",
        "{'Metric'.ljust(10)}{'Train'.center(20)}{'Test'.center(20)}\n",
        "{'r2_score'.ljust(10)}{r2_score(Y_train, lm.predict(x_train))}\\t{r2_score(Y_test, lm.predict(X_test))}\n",
        "{'MSE'.ljust(10)}{mse(Y_train, lm.predict(X_train))}\\t{mse(Y_test, lm.predict(X_test))}\n",
        "'''\n",
        "Print(scores)"
      ],
      "metadata": {
        "id": "pgG9hxDq_fEG"
      },
      "execution_count": null,
      "outputs": []
    }
  ]
}